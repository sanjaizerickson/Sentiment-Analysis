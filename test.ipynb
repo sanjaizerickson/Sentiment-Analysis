{
 "cells": [
  {
   "cell_type": "code",
   "execution_count": 1,
   "id": "d3fecc40-9a7b-4974-8e46-17517b748f14",
   "metadata": {},
   "outputs": [
    {
     "name": "stderr",
     "output_type": "stream",
     "text": [
      "[nltk_data] Downloading package stopwords to\n",
      "[nltk_data]     C:\\Users\\SanjaiA\\AppData\\Roaming\\nltk_data...\n",
      "[nltk_data]   Package stopwords is already up-to-date!\n",
      "[nltk_data] Downloading package wordnet to\n",
      "[nltk_data]     C:\\Users\\SanjaiA\\AppData\\Roaming\\nltk_data...\n",
      "[nltk_data]   Package wordnet is already up-to-date!\n"
     ]
    }
   ],
   "source": [
    "import pickle\n",
    "import re\n",
    "from nltk.corpus import stopwords\n",
    "from nltk.stem import WordNetLemmatizer\n",
    "import nltk\n",
    "\n",
    "nltk.download('stopwords')\n",
    "nltk.download('wordnet')\n",
    "\n",
    "# Load model and vectorizer\n",
    "with open('logistic_model.pkl', 'rb') as f:\n",
    "    model = pickle.load(f)\n",
    "\n",
    "with open('tfidf_vectorizer.pkl', 'rb') as f:\n",
    "    vectorizer = pickle.load(f)\n"
   ]
  },
  {
   "cell_type": "code",
   "execution_count": 2,
   "id": "30b4128b-e8e9-4f1a-99cf-87b92a4bd490",
   "metadata": {},
   "outputs": [],
   "source": [
    "def process_text(text):\n",
    "    lem = WordNetLemmatizer()\n",
    "    stop_words = set(stopwords.words('english'))\n",
    "\n",
    "    text_cleaned = re.sub('[^a-zA-Z]', ' ', text)\n",
    "    words = text_cleaned.lower().split()\n",
    "    lemmatized_words = [lem.lemmatize(word) for word in words if word not in stop_words]\n",
    "\n",
    "    return ' '.join(lemmatized_words)\n"
   ]
  },
  {
   "cell_type": "code",
   "execution_count": 3,
   "id": "0189c09b-faaf-44b2-8ea6-f2202936a538",
   "metadata": {},
   "outputs": [],
   "source": [
    "sample_tweets = [\n",
    "    \"I love the new features on this app! Amazing update 😍\",\n",
    "    \"The flight was delayed for 3 hours. Very disappointing service.\",\n",
    "    \"It was okay, nothing special really.\",\n",
    "    \"Absolutely terrible! Will never use this airline again.\",\n",
    "    \"Great staff and smooth flight experience. Thank you!\"\n",
    "]\n"
   ]
  },
  {
   "cell_type": "code",
   "execution_count": 4,
   "id": "1894a7f7-8871-40af-a9cc-abe427a9d768",
   "metadata": {},
   "outputs": [
    {
     "name": "stdout",
     "output_type": "stream",
     "text": [
      "Tweet: I love the new features on this app! Amazing update 😍\n",
      "Predicted Sentiment: Positive\n",
      "\n",
      "Tweet: The flight was delayed for 3 hours. Very disappointing service.\n",
      "Predicted Sentiment: Negative\n",
      "\n",
      "Tweet: It was okay, nothing special really.\n",
      "Predicted Sentiment: Positive\n",
      "\n",
      "Tweet: Absolutely terrible! Will never use this airline again.\n",
      "Predicted Sentiment: Negative\n",
      "\n",
      "Tweet: Great staff and smooth flight experience. Thank you!\n",
      "Predicted Sentiment: Positive\n",
      "\n"
     ]
    }
   ],
   "source": [
    "# Clean the tweets\n",
    "cleaned_tweets = [process_text(tweet) for tweet in sample_tweets]\n",
    "\n",
    "# Vectorize\n",
    "X_input = vectorizer.transform(cleaned_tweets)\n",
    "\n",
    "# Predict\n",
    "predictions = model.predict(X_input)\n",
    "\n",
    "# Decode sentiment\n",
    "sentiment_map = {0: 'Negative', 1: 'Positive'}\n",
    "predicted_labels = [sentiment_map[pred] for pred in predictions]\n",
    "\n",
    "# Show results\n",
    "for tweet, label in zip(sample_tweets, predicted_labels):\n",
    "    print(f\"Tweet: {tweet}\\nPredicted Sentiment: {label}\\n\")\n"
   ]
  }
 ],
 "metadata": {
  "kernelspec": {
   "display_name": "Python 3 (ipykernel)",
   "language": "python",
   "name": "python3"
  },
  "language_info": {
   "codemirror_mode": {
    "name": "ipython",
    "version": 3
   },
   "file_extension": ".py",
   "mimetype": "text/x-python",
   "name": "python",
   "nbconvert_exporter": "python",
   "pygments_lexer": "ipython3",
   "version": "3.12.7"
  }
 },
 "nbformat": 4,
 "nbformat_minor": 5
}
